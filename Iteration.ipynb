{
 "cells": [
  {
   "cell_type": "markdown",
   "metadata": {},
   "source": [
    "# For and While loops\n",
    "\n",
    "A simple for loops goes from 0 to 9 (up to but not inculding 10) and takes a step of 1 each time.\n",
    "\n",
    "Because 0 is the default start I don't  have to include it\n",
    "\n",
    "Because 1 is the default step I don't have o include it "
   ]
  },
  {
   "cell_type": "code",
   "execution_count": 12,
   "metadata": {},
   "outputs": [
    {
     "name": "stdout",
     "output_type": "stream",
     "text": [
      "0, 1, 2, 3, 4, 5, 6, 7, 8, 9, "
     ]
    }
   ],
   "source": [
    "for counter in range(0,10,1):\n",
    "    print(counter,end=\", \")"
   ]
  },
  {
   "cell_type": "markdown",
   "metadata": {},
   "source": [
    "### Don't do\n",
    "``` python\n",
    "    while True:\n",
    "        if():\n",
    "```"
   ]
  },
  {
   "cell_type": "code",
   "execution_count": 11,
   "metadata": {},
   "outputs": [
    {
     "name": "stdout",
     "output_type": "stream",
     "text": [
      "1000, 997, 994, 991, 988, 985, 982, 979, 976, 973, 970, 967, 964, 961, 958, 955, 952, 949, 946, 943, 940, 937, 934, 931, 928, 925, 922, 919, 916, 913, 910, 907, 904, 901, 898, 895, 892, 889, 886, 883, 880, 877, 874, 871, 868, 865, 862, 859, 856, 853, 850, 847, 844, 841, 838, 835, 832, 829, 826, 823, 820, 817, 814, 811, 808, 805, 802, 799, 796, 793, 790, 787, 784, 781, 778, 775, 772, 769, 766, 763, 760, 757, 754, 751, 748, 745, 742, 739, 736, 733, 730, 727, 724, 721, 718, 715, 712, 709, 706, 703, 700, 697, 694, 691, 688, 685, 682, 679, 676, 673, 670, 667, 664, 661, 658, 655, 652, 649, 646, 643, 640, 637, 634, 631, 628, 625, 622, 619, 616, 613, 610, 607, 604, 601, 598, 595, 592, 589, 586, 583, 580, 577, 574, 571, 568, 565, 562, 559, 556, 553, 550, 547, 544, 541, 538, 535, 532, 529, 526, 523, 520, 517, 514, 511, 508, 505, 502, 499, 496, 493, 490, 487, 484, 481, 478, 475, 472, 469, 466, 463, 460, 457, 454, 451, 448, 445, 442, 439, 436, 433, 430, 427, 424, 421, 418, 415, 412, 409, 406, 403, 400, 397, 394, 391, 388, 385, 382, 379, 376, 373, 370, 367, 364, 361, 358, 355, 352, 349, 346, 343, 340, 337, 334, 331, 328, 325, 322, 319, 316, 313, 310, 307, 304, 301, 298, 295, 292, 289, 286, 283, 280, 277, 274, 271, 268, 265, 262, 259, 256, 253, 250, 247, 244, 241, 238, 235, 232, 229, 226, 223, 220, 217, 214, 211, 208, 205, 202, 199, 196, 193, 190, 187, 184, 181, 178, 175, 172, 169, 166, 163, 160, 157, 154, 151, 148, 145, 142, 139, 136, 133, 130, 127, 124, 121, 118, 115, 112, 109, 106, 103, 100, 97, 94, 91, 88, 85, 82, 79, 76, 73, 70, 67, 64, 61, 58, 55, 52, 49, 46, 43, 40, 37, 34, 31, 28, 25, 22, 19, 16, 13, 10, 7, 4, "
     ]
    }
   ],
   "source": [
    "for counter in range(1000,1,-3):\n",
    "    print(counter,end=\", \")"
   ]
  },
  {
   "cell_type": "code",
   "execution_count": 14,
   "metadata": {},
   "outputs": [
    {
     "name": "stdout",
     "output_type": "stream",
     "text": [
      "0\n",
      "1\n",
      "2\n",
      "3\n",
      "4\n",
      "5\n",
      "6\n",
      "7\n",
      "8\n",
      "9\n"
     ]
    }
   ],
   "source": [
    "for i in range(0,10,1):\n",
    "    print(i)"
   ]
  },
  {
   "cell_type": "code",
   "execution_count": 19,
   "metadata": {},
   "outputs": [
    {
     "name": "stdout",
     "output_type": "stream",
     "text": [
      "0, 7, 14, 21, 28, 35, 42, 49, 56, 63, 70, 77, 84, 91, 98, "
     ]
    }
   ],
   "source": [
    "for counter in range(0,100,7):\n",
    "    print(counter,end=\", \")"
   ]
  },
  {
   "cell_type": "code",
   "execution_count": 26,
   "metadata": {
    "collapsed": true
   },
   "outputs": [],
   "source": [
    "# this gives no output\n",
    "# this is a logical error - a programmer error\n",
    "# not a syntax error\n",
    "\n",
    "for counter in range(0,10,-1):\n",
    "    print(counter)"
   ]
  },
  {
   "cell_type": "markdown",
   "metadata": {},
   "source": [
    "### While (conditional loops)\n",
    "\n",
    "I-nitialise (start) our loop variable\n",
    "\n",
    "T-est out loop variable \n",
    "\n",
    "C-hange the loop variable "
   ]
  },
  {
   "cell_type": "code",
   "execution_count": null,
   "metadata": {
    "collapsed": true
   },
   "outputs": [],
   "source": [
    "loopVar = \"x\" # I-nitialise\n",
    "while loopVar != \"s\": # T-est\n",
    "    loopVar = input(\"do you want to continue\") # C-hange"
   ]
  },
  {
   "cell_type": "code",
   "execution_count": null,
   "metadata": {
    "collapsed": true
   },
   "outputs": [],
   "source": [
    "import random\n",
    "won = False #at the start the game has not been won\n",
    "lives = 5 #you start with 5 lives\n",
    "\n",
    "while not won and lives > 0 :\n",
    "    lives = lives -1 #lose a life on each round\n",
    "    x = random.randint(0,10)\n",
    "    if x == 5 or x==7 or ==2:\n",
    "        won True\n",
    "        print(\"you are amazing, you just won randomly\")\n",
    "    else:\n",
    "        print(\"You didn't win this time but you have \", lives, \"lives left\")\n",
    "#after the loop is finished this code runs\n",
    "if lives == 0:\n",
    "    print(\"you are awful, you just lost this game\")"
   ]
  },
  {
   "cell_type": "markdown",
   "metadata": {},
   "source": [
    "and: both have to be true\n",
    "or: both or either has to be true\n",
    "xor: "
   ]
  }
 ],
 "metadata": {
  "kernelspec": {
   "display_name": "Python 3",
   "language": "python",
   "name": "python3"
  },
  "language_info": {
   "codemirror_mode": {
    "name": "ipython",
    "version": 3
   },
   "file_extension": ".py",
   "mimetype": "text/x-python",
   "name": "python",
   "nbconvert_exporter": "python",
   "pygments_lexer": "ipython3",
   "version": "3.5.2"
  }
 },
 "nbformat": 4,
 "nbformat_minor": 2
}
